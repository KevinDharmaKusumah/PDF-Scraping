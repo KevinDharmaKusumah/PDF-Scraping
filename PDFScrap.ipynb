{
 "cells": [
  {
   "cell_type": "markdown",
   "metadata": {},
   "source": [
    "# Multiple PDF Scraping\n",
    "## Kevin Dharma Kusumah\n",
    "tutorial provided by Pythonic Accountant"
   ]
  },
  {
   "cell_type": "markdown",
   "metadata": {},
   "source": [
    "import libraries"
   ]
  },
  {
   "cell_type": "code",
   "execution_count": 1,
   "metadata": {},
   "outputs": [],
   "source": [
    "import re\n",
    "\n",
    "import pdfplumber\n",
    "import pandas as pd\n",
    "from collections import namedtuple"
   ]
  },
  {
   "cell_type": "markdown",
   "metadata": {},
   "source": [
    "Creating Line"
   ]
  },
  {
   "cell_type": "code",
   "execution_count": 2,
   "metadata": {},
   "outputs": [],
   "source": [
    "Line = namedtuple('Line', 'company_id company_name doctype reference currency voucher inv_date due_date open_amt_tc open_amt_bc current months1 months2 months3')"
   ]
  },
  {
   "cell_type": "markdown",
   "metadata": {},
   "source": [
    "Getting the line in PDF"
   ]
  },
  {
   "cell_type": "code",
   "execution_count": 3,
   "metadata": {},
   "outputs": [],
   "source": [
    "company_re = re.compile(r'(V\\d+) (.*) Phone:')\n",
    "line_re = re.compile(r'\\d{2}/\\d{2}/\\d{4} \\d{2}/\\d{2}/\\d{4}')"
   ]
  },
  {
   "cell_type": "code",
   "execution_count": 4,
   "metadata": {},
   "outputs": [
    {
     "data": {
      "text/plain": [
       "<re.Match object; span=(27, 48), match='11/03/2014 12/30/2014'>"
      ]
     },
     "execution_count": 4,
     "metadata": {},
     "output_type": "execute_result"
    }
   ],
   "source": [
    "line_re.search('478 USD BFS030OB/000000057 11/03/2014 12/30/2014 263.52 263.52 0.00 0.00 0.00 263.52')"
   ]
  },
  {
   "cell_type": "markdown",
   "metadata": {},
   "source": [
    "Determined the logic"
   ]
  },
  {
   "cell_type": "code",
   "execution_count": 5,
   "metadata": {},
   "outputs": [
    {
     "data": {
      "text/plain": [
       "Line(company_id='companynumber', company_name='companyname', doctype='invoice', reference='478', currency='USD', voucher='BFS030OB/000000057', inv_date='11/03/2014', due_date='12/30/2014', open_amt_tc='263.52', open_amt_bc='263.52', current='0.00', months1='0.00', months2='0.00', months3='263.52')"
      ]
     },
     "execution_count": 5,
     "metadata": {},
     "output_type": "execute_result"
    }
   ],
   "source": [
    "Line(*'companynumber companyname invoice 478 USD BFS030OB/000000057 11/03/2014 12/30/2014 263.52 263.52 0.00 0.00 0.00 263.52'.split())"
   ]
  },
  {
   "cell_type": "markdown",
   "metadata": {},
   "source": [
    "Load the file"
   ]
  },
  {
   "cell_type": "code",
   "execution_count": 6,
   "metadata": {},
   "outputs": [],
   "source": [
    "file = 'Sample Report Pythonic.pdf'"
   ]
  },
  {
   "cell_type": "code",
   "execution_count": 7,
   "metadata": {},
   "outputs": [],
   "source": [
    "lines = []\n",
    "total_check = 0\n",
    "\n",
    "with pdfplumber.open(file) as pdf:\n",
    "    pages = pdf.pages\n",
    "    for page in pdf.pages:\n",
    "        text = page.extract_text()\n",
    "        for line in text.split('\\n'):\n",
    "            comp = company_re.search(line)\n",
    "            if comp:\n",
    "                vend_no, vend_name = comp.group(1), comp.group(2)\n",
    "\n",
    "            elif line.startswith('INVOICES'):\n",
    "                doctype = 'INVOICE'\n",
    "\n",
    "            elif line.startswith('CREDITNOTES'):\n",
    "                doctype = 'CREDITNOTE'\n",
    "\n",
    "            elif line_re.search(line):\n",
    "                items = line.split()\n",
    "                lines.append(Line(vend_no, vend_name, doctype, *items))\n",
    "                \n",
    "            elif line.startswith('Supplier total'):\n",
    "                tot = float(line.split()[2].replace(',', ''))\n",
    "                total_check += tot"
   ]
  },
  {
   "cell_type": "code",
   "execution_count": 8,
   "metadata": {},
   "outputs": [
    {
     "data": {
      "text/plain": [
       "[Line(company_id='V50012', company_name='Company A LTD', doctype='CREDITNOTE', reference='478', currency='USD', voucher='BFS030OB/000000057', inv_date='11/03/2014', due_date='12/30/2014', open_amt_tc='263.52', open_amt_bc='263.52', current='0.00', months1='0.00', months2='0.00', months3='263.52'),\n",
       " Line(company_id='V50012', company_name='CARGO SAFETRAVEL LTD', doctype='INVOICE', reference='J1062628/1', currency='USD', voucher='BFS026/000001137', inv_date='03/30/2019', due_date='03/30/2019', open_amt_tc='-102.00', open_amt_bc='-102.00', current='0.00', months1='-102.00', months2='0.00', months3='0.00'),\n",
       " Line(company_id='V50012', company_name='CARGO SAFETRAVEL LTD', doctype='INVOICE', reference='J1062638/1', currency='USD', voucher='BFS026/000001136', inv_date='02/28/2019', due_date='03/15/2019', open_amt_tc='-204.00', open_amt_bc='-204.00', current='0.00', months1='-204.00', months2='0.00', months3='0.00'),\n",
       " Line(company_id='V50014', company_name='ChaseB REGISTER USDA', doctype='INVOICE', reference='110-135633', currency='USD', voucher='BFS026/000001064', inv_date='02/05/2019', due_date='04/29/2019', open_amt_tc='-4,665.00', open_amt_bc='-4,665.00', current='-4,665.00', months1='0.00', months2='0.00', months3='0.00'),\n",
       " Line(company_id='V50015', company_name='METALS CHEMICALS GROUP LIMITED', doctype='INVOICE', reference='SI191433', currency='USD', voucher='BFS026/000000908', inv_date='02/12/2019', due_date='03/30/2019', open_amt_tc='-198.00', open_amt_bc='-198.00', current='0.00', months1='-198.00', months2='0.00', months3='0.00')]"
      ]
     },
     "execution_count": 8,
     "metadata": {},
     "output_type": "execute_result"
    }
   ],
   "source": [
    "lines[:5]"
   ]
  },
  {
   "cell_type": "code",
   "execution_count": 9,
   "metadata": {},
   "outputs": [
    {
     "data": {
      "text/html": [
       "<div>\n",
       "<style scoped>\n",
       "    .dataframe tbody tr th:only-of-type {\n",
       "        vertical-align: middle;\n",
       "    }\n",
       "\n",
       "    .dataframe tbody tr th {\n",
       "        vertical-align: top;\n",
       "    }\n",
       "\n",
       "    .dataframe thead th {\n",
       "        text-align: right;\n",
       "    }\n",
       "</style>\n",
       "<table border=\"1\" class=\"dataframe\">\n",
       "  <thead>\n",
       "    <tr style=\"text-align: right;\">\n",
       "      <th></th>\n",
       "      <th>company_id</th>\n",
       "      <th>company_name</th>\n",
       "      <th>doctype</th>\n",
       "      <th>reference</th>\n",
       "      <th>currency</th>\n",
       "      <th>voucher</th>\n",
       "      <th>inv_date</th>\n",
       "      <th>due_date</th>\n",
       "      <th>open_amt_tc</th>\n",
       "      <th>open_amt_bc</th>\n",
       "      <th>current</th>\n",
       "      <th>months1</th>\n",
       "      <th>months2</th>\n",
       "      <th>months3</th>\n",
       "    </tr>\n",
       "  </thead>\n",
       "  <tbody>\n",
       "    <tr>\n",
       "      <th>0</th>\n",
       "      <td>V50012</td>\n",
       "      <td>Company A LTD</td>\n",
       "      <td>CREDITNOTE</td>\n",
       "      <td>478</td>\n",
       "      <td>USD</td>\n",
       "      <td>BFS030OB/000000057</td>\n",
       "      <td>11/03/2014</td>\n",
       "      <td>12/30/2014</td>\n",
       "      <td>263.52</td>\n",
       "      <td>263.52</td>\n",
       "      <td>0.00</td>\n",
       "      <td>0.00</td>\n",
       "      <td>0.00</td>\n",
       "      <td>263.52</td>\n",
       "    </tr>\n",
       "    <tr>\n",
       "      <th>1</th>\n",
       "      <td>V50012</td>\n",
       "      <td>CARGO SAFETRAVEL LTD</td>\n",
       "      <td>INVOICE</td>\n",
       "      <td>J1062628/1</td>\n",
       "      <td>USD</td>\n",
       "      <td>BFS026/000001137</td>\n",
       "      <td>03/30/2019</td>\n",
       "      <td>03/30/2019</td>\n",
       "      <td>-102.00</td>\n",
       "      <td>-102.00</td>\n",
       "      <td>0.00</td>\n",
       "      <td>-102.00</td>\n",
       "      <td>0.00</td>\n",
       "      <td>0.00</td>\n",
       "    </tr>\n",
       "    <tr>\n",
       "      <th>2</th>\n",
       "      <td>V50012</td>\n",
       "      <td>CARGO SAFETRAVEL LTD</td>\n",
       "      <td>INVOICE</td>\n",
       "      <td>J1062638/1</td>\n",
       "      <td>USD</td>\n",
       "      <td>BFS026/000001136</td>\n",
       "      <td>02/28/2019</td>\n",
       "      <td>03/15/2019</td>\n",
       "      <td>-204.00</td>\n",
       "      <td>-204.00</td>\n",
       "      <td>0.00</td>\n",
       "      <td>-204.00</td>\n",
       "      <td>0.00</td>\n",
       "      <td>0.00</td>\n",
       "    </tr>\n",
       "    <tr>\n",
       "      <th>3</th>\n",
       "      <td>V50014</td>\n",
       "      <td>ChaseB REGISTER USDA</td>\n",
       "      <td>INVOICE</td>\n",
       "      <td>110-135633</td>\n",
       "      <td>USD</td>\n",
       "      <td>BFS026/000001064</td>\n",
       "      <td>02/05/2019</td>\n",
       "      <td>04/29/2019</td>\n",
       "      <td>-4,665.00</td>\n",
       "      <td>-4,665.00</td>\n",
       "      <td>-4,665.00</td>\n",
       "      <td>0.00</td>\n",
       "      <td>0.00</td>\n",
       "      <td>0.00</td>\n",
       "    </tr>\n",
       "    <tr>\n",
       "      <th>4</th>\n",
       "      <td>V50015</td>\n",
       "      <td>METALS CHEMICALS GROUP LIMITED</td>\n",
       "      <td>INVOICE</td>\n",
       "      <td>SI191433</td>\n",
       "      <td>USD</td>\n",
       "      <td>BFS026/000000908</td>\n",
       "      <td>02/12/2019</td>\n",
       "      <td>03/30/2019</td>\n",
       "      <td>-198.00</td>\n",
       "      <td>-198.00</td>\n",
       "      <td>0.00</td>\n",
       "      <td>-198.00</td>\n",
       "      <td>0.00</td>\n",
       "      <td>0.00</td>\n",
       "    </tr>\n",
       "    <tr>\n",
       "      <th>...</th>\n",
       "      <td>...</td>\n",
       "      <td>...</td>\n",
       "      <td>...</td>\n",
       "      <td>...</td>\n",
       "      <td>...</td>\n",
       "      <td>...</td>\n",
       "      <td>...</td>\n",
       "      <td>...</td>\n",
       "      <td>...</td>\n",
       "      <td>...</td>\n",
       "      <td>...</td>\n",
       "      <td>...</td>\n",
       "      <td>...</td>\n",
       "      <td>...</td>\n",
       "    </tr>\n",
       "    <tr>\n",
       "      <th>126</th>\n",
       "      <td>V50097</td>\n",
       "      <td>AT&amp;T GLOBAL NETWORK SERVICES (US) BV</td>\n",
       "      <td>INVOICE</td>\n",
       "      <td>47255724</td>\n",
       "      <td>USD</td>\n",
       "      <td>BFS026/000001019</td>\n",
       "      <td>03/15/2019</td>\n",
       "      <td>04/30/2019</td>\n",
       "      <td>-1,137.14</td>\n",
       "      <td>-1,137.14</td>\n",
       "      <td>-1,137.14</td>\n",
       "      <td>0.00</td>\n",
       "      <td>0.00</td>\n",
       "      <td>0.00</td>\n",
       "    </tr>\n",
       "    <tr>\n",
       "      <th>127</th>\n",
       "      <td>V50098</td>\n",
       "      <td>PLASTIC COATINGS LTD</td>\n",
       "      <td>INVOICE</td>\n",
       "      <td>234560</td>\n",
       "      <td>USD</td>\n",
       "      <td>BFS026/000000393</td>\n",
       "      <td>01/30/2019</td>\n",
       "      <td>04/01/2019</td>\n",
       "      <td>-480.00</td>\n",
       "      <td>-480.00</td>\n",
       "      <td>-480.00</td>\n",
       "      <td>0.00</td>\n",
       "      <td>0.00</td>\n",
       "      <td>0.00</td>\n",
       "    </tr>\n",
       "    <tr>\n",
       "      <th>128</th>\n",
       "      <td>V50102</td>\n",
       "      <td>TECHNICAL METALS LTD</td>\n",
       "      <td>INVOICE</td>\n",
       "      <td>221233</td>\n",
       "      <td>USD</td>\n",
       "      <td>BFS026/000000994</td>\n",
       "      <td>02/26/2019</td>\n",
       "      <td>03/30/2019</td>\n",
       "      <td>-30.00</td>\n",
       "      <td>-30.00</td>\n",
       "      <td>0.00</td>\n",
       "      <td>-30.00</td>\n",
       "      <td>0.00</td>\n",
       "      <td>0.00</td>\n",
       "    </tr>\n",
       "    <tr>\n",
       "      <th>129</th>\n",
       "      <td>V50102</td>\n",
       "      <td>TECHNICAL METALS LTD</td>\n",
       "      <td>INVOICE</td>\n",
       "      <td>221234</td>\n",
       "      <td>USD</td>\n",
       "      <td>BFS026/000000995</td>\n",
       "      <td>02/26/2019</td>\n",
       "      <td>03/30/2019</td>\n",
       "      <td>-30.00</td>\n",
       "      <td>-30.00</td>\n",
       "      <td>0.00</td>\n",
       "      <td>-30.00</td>\n",
       "      <td>0.00</td>\n",
       "      <td>0.00</td>\n",
       "    </tr>\n",
       "    <tr>\n",
       "      <th>130</th>\n",
       "      <td>V50104</td>\n",
       "      <td>BARRHEAD TRAVEL SERVICES LTD</td>\n",
       "      <td>CREDITNOTE</td>\n",
       "      <td>B188565</td>\n",
       "      <td>USD</td>\n",
       "      <td>BFS030OB/000000004</td>\n",
       "      <td>01/25/2012</td>\n",
       "      <td>03/01/2012</td>\n",
       "      <td>1,018.80</td>\n",
       "      <td>1,018.80</td>\n",
       "      <td>0.00</td>\n",
       "      <td>0.00</td>\n",
       "      <td>0.00</td>\n",
       "      <td>1,018.80</td>\n",
       "    </tr>\n",
       "  </tbody>\n",
       "</table>\n",
       "<p>131 rows × 14 columns</p>\n",
       "</div>"
      ],
      "text/plain": [
       "    company_id                          company_name     doctype   reference  \\\n",
       "0       V50012                         Company A LTD  CREDITNOTE         478   \n",
       "1       V50012                  CARGO SAFETRAVEL LTD     INVOICE  J1062628/1   \n",
       "2       V50012                  CARGO SAFETRAVEL LTD     INVOICE  J1062638/1   \n",
       "3       V50014                  ChaseB REGISTER USDA     INVOICE  110-135633   \n",
       "4       V50015        METALS CHEMICALS GROUP LIMITED     INVOICE    SI191433   \n",
       "..         ...                                   ...         ...         ...   \n",
       "126     V50097  AT&T GLOBAL NETWORK SERVICES (US) BV     INVOICE    47255724   \n",
       "127     V50098                  PLASTIC COATINGS LTD     INVOICE      234560   \n",
       "128     V50102                  TECHNICAL METALS LTD     INVOICE      221233   \n",
       "129     V50102                  TECHNICAL METALS LTD     INVOICE      221234   \n",
       "130     V50104          BARRHEAD TRAVEL SERVICES LTD  CREDITNOTE     B188565   \n",
       "\n",
       "    currency             voucher    inv_date    due_date open_amt_tc  \\\n",
       "0        USD  BFS030OB/000000057  11/03/2014  12/30/2014      263.52   \n",
       "1        USD    BFS026/000001137  03/30/2019  03/30/2019     -102.00   \n",
       "2        USD    BFS026/000001136  02/28/2019  03/15/2019     -204.00   \n",
       "3        USD    BFS026/000001064  02/05/2019  04/29/2019   -4,665.00   \n",
       "4        USD    BFS026/000000908  02/12/2019  03/30/2019     -198.00   \n",
       "..       ...                 ...         ...         ...         ...   \n",
       "126      USD    BFS026/000001019  03/15/2019  04/30/2019   -1,137.14   \n",
       "127      USD    BFS026/000000393  01/30/2019  04/01/2019     -480.00   \n",
       "128      USD    BFS026/000000994  02/26/2019  03/30/2019      -30.00   \n",
       "129      USD    BFS026/000000995  02/26/2019  03/30/2019      -30.00   \n",
       "130      USD  BFS030OB/000000004  01/25/2012  03/01/2012    1,018.80   \n",
       "\n",
       "    open_amt_bc    current  months1 months2   months3  \n",
       "0        263.52       0.00     0.00    0.00    263.52  \n",
       "1       -102.00       0.00  -102.00    0.00      0.00  \n",
       "2       -204.00       0.00  -204.00    0.00      0.00  \n",
       "3     -4,665.00  -4,665.00     0.00    0.00      0.00  \n",
       "4       -198.00       0.00  -198.00    0.00      0.00  \n",
       "..          ...        ...      ...     ...       ...  \n",
       "126   -1,137.14  -1,137.14     0.00    0.00      0.00  \n",
       "127     -480.00    -480.00     0.00    0.00      0.00  \n",
       "128      -30.00       0.00   -30.00    0.00      0.00  \n",
       "129      -30.00       0.00   -30.00    0.00      0.00  \n",
       "130    1,018.80       0.00     0.00    0.00  1,018.80  \n",
       "\n",
       "[131 rows x 14 columns]"
      ]
     },
     "execution_count": 9,
     "metadata": {},
     "output_type": "execute_result"
    }
   ],
   "source": [
    "df = pd.DataFrame(lines)\n",
    "df"
   ]
  },
  {
   "cell_type": "markdown",
   "metadata": {},
   "source": [
    "Correcting the Data Types"
   ]
  },
  {
   "cell_type": "code",
   "execution_count": 10,
   "metadata": {},
   "outputs": [
    {
     "name": "stdout",
     "output_type": "stream",
     "text": [
      "<class 'pandas.core.frame.DataFrame'>\n",
      "RangeIndex: 131 entries, 0 to 130\n",
      "Data columns (total 14 columns):\n",
      " #   Column        Non-Null Count  Dtype \n",
      "---  ------        --------------  ----- \n",
      " 0   company_id    131 non-null    object\n",
      " 1   company_name  131 non-null    object\n",
      " 2   doctype       131 non-null    object\n",
      " 3   reference     131 non-null    object\n",
      " 4   currency      131 non-null    object\n",
      " 5   voucher       131 non-null    object\n",
      " 6   inv_date      131 non-null    object\n",
      " 7   due_date      131 non-null    object\n",
      " 8   open_amt_tc   131 non-null    object\n",
      " 9   open_amt_bc   131 non-null    object\n",
      " 10  current       131 non-null    object\n",
      " 11  months1       131 non-null    object\n",
      " 12  months2       131 non-null    object\n",
      " 13  months3       131 non-null    object\n",
      "dtypes: object(14)\n",
      "memory usage: 14.5+ KB\n"
     ]
    }
   ],
   "source": [
    "df.info()"
   ]
  },
  {
   "cell_type": "code",
   "execution_count": 11,
   "metadata": {},
   "outputs": [],
   "source": [
    "df['inv_date'] = pd.to_datetime(df['inv_date'])\n",
    "df['due_date'] = pd.to_datetime(df['due_date'])"
   ]
  },
  {
   "cell_type": "code",
   "execution_count": 12,
   "metadata": {},
   "outputs": [],
   "source": [
    "for col in df.columns[-6:]:\n",
    "    df[col] = df[col].map(lambda x: float(str(x).replace(',', '')))"
   ]
  },
  {
   "cell_type": "code",
   "execution_count": 13,
   "metadata": {},
   "outputs": [
    {
     "name": "stdout",
     "output_type": "stream",
     "text": [
      "<class 'pandas.core.frame.DataFrame'>\n",
      "RangeIndex: 131 entries, 0 to 130\n",
      "Data columns (total 14 columns):\n",
      " #   Column        Non-Null Count  Dtype         \n",
      "---  ------        --------------  -----         \n",
      " 0   company_id    131 non-null    object        \n",
      " 1   company_name  131 non-null    object        \n",
      " 2   doctype       131 non-null    object        \n",
      " 3   reference     131 non-null    object        \n",
      " 4   currency      131 non-null    object        \n",
      " 5   voucher       131 non-null    object        \n",
      " 6   inv_date      131 non-null    datetime64[ns]\n",
      " 7   due_date      131 non-null    datetime64[ns]\n",
      " 8   open_amt_tc   131 non-null    float64       \n",
      " 9   open_amt_bc   131 non-null    float64       \n",
      " 10  current       131 non-null    float64       \n",
      " 11  months1       131 non-null    float64       \n",
      " 12  months2       131 non-null    float64       \n",
      " 13  months3       131 non-null    float64       \n",
      "dtypes: datetime64[ns](2), float64(6), object(6)\n",
      "memory usage: 14.5+ KB\n"
     ]
    }
   ],
   "source": [
    "df.info()"
   ]
  },
  {
   "cell_type": "markdown",
   "metadata": {},
   "source": [
    "Checking the values"
   ]
  },
  {
   "cell_type": "code",
   "execution_count": 15,
   "metadata": {},
   "outputs": [
    {
     "name": "stdout",
     "output_type": "stream",
     "text": [
      "-129580.73999999999\n",
      "-129580.73999999999\n"
     ]
    }
   ],
   "source": [
    "print(df['open_amt_bc'].sum())\n",
    "print(total_check)"
   ]
  },
  {
   "cell_type": "markdown",
   "metadata": {},
   "source": [
    "import to csv"
   ]
  },
  {
   "cell_type": "code",
   "execution_count": 16,
   "metadata": {},
   "outputs": [],
   "source": [
    "df.to_csv('output_invoices.csv', index = False)"
   ]
  }
 ],
 "metadata": {
  "kernelspec": {
   "display_name": "Python 3",
   "language": "python",
   "name": "python3"
  },
  "language_info": {
   "codemirror_mode": {
    "name": "ipython",
    "version": 3
   },
   "file_extension": ".py",
   "mimetype": "text/x-python",
   "name": "python",
   "nbconvert_exporter": "python",
   "pygments_lexer": "ipython3",
   "version": "3.11.7"
  }
 },
 "nbformat": 4,
 "nbformat_minor": 2
}
